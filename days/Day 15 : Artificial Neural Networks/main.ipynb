{
 "cells": [
  {
   "cell_type": "code",
   "execution_count": 1,
   "metadata": {},
   "outputs": [],
   "source": [
    "# Importing the libraries\n",
    "import numpy as np\n",
    "import matplotlib.pyplot as plt\n",
    "import pandas as pd"
   ]
  },
  {
   "cell_type": "code",
   "execution_count": 2,
   "metadata": {},
   "outputs": [],
   "source": [
    "# Importing the dataset\n",
    "dataset = pd.read_csv('Churn_Modelling.csv')\n",
    "X = dataset.iloc[:, 3:13].values\n",
    "y = dataset.iloc[:, 13].values"
   ]
  },
  {
   "cell_type": "code",
   "execution_count": 3,
   "metadata": {},
   "outputs": [],
   "source": [
    "# Encoding categorical data\n",
    "from sklearn.preprocessing import LabelEncoder, OneHotEncoder\n",
    "labelencoder_X_1 = LabelEncoder()\n",
    "X[:, 1] = labelencoder_X_1.fit_transform(X[:, 1])\n",
    "labelencoder_X_2 = LabelEncoder()\n",
    "X[:, 2] = labelencoder_X_2.fit_transform(X[:, 2])\n",
    "onehotencoder = OneHotEncoder(categorical_features = [1])\n",
    "X = onehotencoder.fit_transform(X).toarray()\n",
    "X = X[:, 1:]"
   ]
  },
  {
   "cell_type": "code",
   "execution_count": 4,
   "metadata": {},
   "outputs": [],
   "source": [
    "# Splitting the dataset into the Training set and Test set\n",
    "from sklearn.model_selection import train_test_split\n",
    "X_train, X_test, y_train, y_test = train_test_split(X, y, test_size = 0.2, random_state = 0)"
   ]
  },
  {
   "cell_type": "code",
   "execution_count": 5,
   "metadata": {},
   "outputs": [],
   "source": [
    "# Feature Scaling\n",
    "from sklearn.preprocessing import StandardScaler\n",
    "sc = StandardScaler()\n",
    "X_train = sc.fit_transform(X_train)\n",
    "X_test = sc.transform(X_test)"
   ]
  },
  {
   "cell_type": "markdown",
   "metadata": {},
   "source": [
    "# Now let's make the ANN!"
   ]
  },
  {
   "cell_type": "code",
   "execution_count": 6,
   "metadata": {},
   "outputs": [
    {
     "name": "stderr",
     "output_type": "stream",
     "text": [
      "Using TensorFlow backend.\n"
     ]
    }
   ],
   "source": [
    "# Importing the Keras libraries and packages\n",
    "import keras\n",
    "from keras.models import Sequential\n",
    "from keras.layers import Dense"
   ]
  },
  {
   "cell_type": "code",
   "execution_count": 7,
   "metadata": {},
   "outputs": [
    {
     "name": "stderr",
     "output_type": "stream",
     "text": [
      "/usr/lib/python3/dist-packages/ipykernel_launcher.py:5: UserWarning: Update your `Dense` call to the Keras 2 API: `Dense(kernel_initializer=\"uniform\", activation=\"relu\", input_dim=11, units=6)`\n",
      "  \"\"\"\n",
      "/usr/lib/python3/dist-packages/ipykernel_launcher.py:8: UserWarning: Update your `Dense` call to the Keras 2 API: `Dense(kernel_initializer=\"uniform\", activation=\"relu\", units=6)`\n",
      "  \n",
      "/usr/lib/python3/dist-packages/ipykernel_launcher.py:11: UserWarning: Update your `Dense` call to the Keras 2 API: `Dense(kernel_initializer=\"uniform\", activation=\"relu\", units=3)`\n",
      "  # This is added back by InteractiveShellApp.init_path()\n",
      "/usr/lib/python3/dist-packages/ipykernel_launcher.py:14: UserWarning: Update your `Dense` call to the Keras 2 API: `Dense(kernel_initializer=\"uniform\", activation=\"sigmoid\", units=1)`\n",
      "  \n"
     ]
    }
   ],
   "source": [
    "# Initialising the ANN\n",
    "classifier = Sequential()\n",
    "\n",
    "# Adding the input layer and the first hidden layer\n",
    "classifier.add(Dense(output_dim = 6, kernel_initializer = 'uniform', activation = 'relu', input_dim = 11))\n",
    "\n",
    "# Adding the second hidden layer\n",
    "classifier.add(Dense(output_dim = 6, kernel_initializer = 'uniform', activation = 'relu'))\n",
    "\n",
    "# Adding the third hidden layer\n",
    "classifier.add(Dense(output_dim = 3, kernel_initializer = 'uniform', activation = 'relu'))\n",
    "\n",
    "# Adding the output layer\n",
    "classifier.add(Dense(output_dim = 1, kernel_initializer = 'uniform', activation = 'sigmoid'))\n",
    "\n",
    "# Compiling the ANN\n",
    "classifier.compile(optimizer = 'adam', loss = 'binary_crossentropy', metrics = ['accuracy'])"
   ]
  },
  {
   "cell_type": "code",
   "execution_count": 8,
   "metadata": {},
   "outputs": [
    {
     "name": "stdout",
     "output_type": "stream",
     "text": [
      "Epoch 1/100\n",
      "8000/8000 [==============================] - 2s 281us/step - loss: 0.4995 - acc: 0.7959\n",
      "Epoch 2/100\n",
      "8000/8000 [==============================] - 2s 252us/step - loss: 0.4314 - acc: 0.7960\n",
      "Epoch 3/100\n",
      "8000/8000 [==============================] - 2s 265us/step - loss: 0.4262 - acc: 0.7960\n",
      "Epoch 4/100\n",
      "8000/8000 [==============================] - 2s 272us/step - loss: 0.4217 - acc: 0.7964\n",
      "Epoch 5/100\n",
      "8000/8000 [==============================] - 2s 296us/step - loss: 0.4181 - acc: 0.8225\n",
      "Epoch 6/100\n",
      "8000/8000 [==============================] - 3s 399us/step - loss: 0.4158 - acc: 0.8270\n",
      "Epoch 7/100\n",
      "8000/8000 [==============================] - 3s 332us/step - loss: 0.4142 - acc: 0.8299\n",
      "Epoch 8/100\n",
      "8000/8000 [==============================] - 3s 320us/step - loss: 0.4130 - acc: 0.8297\n",
      "Epoch 9/100\n",
      "8000/8000 [==============================] - 2s 281us/step - loss: 0.4114 - acc: 0.8316\n",
      "Epoch 10/100\n",
      "8000/8000 [==============================] - 2s 274us/step - loss: 0.4109 - acc: 0.8329\n",
      "Epoch 11/100\n",
      "8000/8000 [==============================] - 2s 237us/step - loss: 0.4095 - acc: 0.8326\n",
      "Epoch 12/100\n",
      "8000/8000 [==============================] - 2s 250us/step - loss: 0.4087 - acc: 0.8329\n",
      "Epoch 13/100\n",
      "8000/8000 [==============================] - 2s 280us/step - loss: 0.4084 - acc: 0.8326\n",
      "Epoch 14/100\n",
      "8000/8000 [==============================] - 3s 357us/step - loss: 0.4073 - acc: 0.8337\n",
      "Epoch 15/100\n",
      "8000/8000 [==============================] - 3s 381us/step - loss: 0.4071 - acc: 0.8337\n",
      "Epoch 16/100\n",
      "8000/8000 [==============================] - 3s 328us/step - loss: 0.4063 - acc: 0.8337\n",
      "Epoch 17/100\n",
      "8000/8000 [==============================] - 2s 295us/step - loss: 0.4060 - acc: 0.8340\n",
      "Epoch 18/100\n",
      "8000/8000 [==============================] - 2s 270us/step - loss: 0.4056 - acc: 0.8337\n",
      "Epoch 19/100\n",
      "8000/8000 [==============================] - 2s 249us/step - loss: 0.4050 - acc: 0.8344\n",
      "Epoch 20/100\n",
      "8000/8000 [==============================] - 2s 245us/step - loss: 0.4049 - acc: 0.8331\n",
      "Epoch 21/100\n",
      "8000/8000 [==============================] - 2s 274us/step - loss: 0.4047 - acc: 0.8341\n",
      "Epoch 22/100\n",
      "8000/8000 [==============================] - 2s 295us/step - loss: 0.4036 - acc: 0.8335\n",
      "Epoch 23/100\n",
      "8000/8000 [==============================] - 3s 408us/step - loss: 0.4043 - acc: 0.8350\n",
      "Epoch 24/100\n",
      "8000/8000 [==============================] - 3s 348us/step - loss: 0.4038 - acc: 0.8332\n",
      "Epoch 25/100\n",
      "8000/8000 [==============================] - 3s 321us/step - loss: 0.4034 - acc: 0.8339\n",
      "Epoch 26/100\n",
      "8000/8000 [==============================] - 2s 279us/step - loss: 0.4034 - acc: 0.8342\n",
      "Epoch 27/100\n",
      "8000/8000 [==============================] - 3s 325us/step - loss: 0.4030 - acc: 0.8345\n",
      "Epoch 28/100\n",
      "8000/8000 [==============================] - 3s 353us/step - loss: 0.4026 - acc: 0.8357\n",
      "Epoch 29/100\n",
      "8000/8000 [==============================] - 3s 333us/step - loss: 0.4027 - acc: 0.8355\n",
      "Epoch 30/100\n",
      "8000/8000 [==============================] - 3s 332us/step - loss: 0.4025 - acc: 0.8345\n",
      "Epoch 31/100\n",
      "8000/8000 [==============================] - 3s 335us/step - loss: 0.4024 - acc: 0.8335\n",
      "Epoch 32/100\n",
      "8000/8000 [==============================] - 3s 335us/step - loss: 0.4023 - acc: 0.8341\n",
      "Epoch 33/100\n",
      "8000/8000 [==============================] - 3s 336us/step - loss: 0.4020 - acc: 0.8339\n",
      "Epoch 34/100\n",
      "8000/8000 [==============================] - 3s 341us/step - loss: 0.4021 - acc: 0.8337\n",
      "Epoch 35/100\n",
      "8000/8000 [==============================] - 3s 344us/step - loss: 0.4019 - acc: 0.8342\n",
      "Epoch 36/100\n",
      "8000/8000 [==============================] - 3s 353us/step - loss: 0.4015 - acc: 0.8355\n",
      "Epoch 37/100\n",
      "8000/8000 [==============================] - 3s 364us/step - loss: 0.4019 - acc: 0.8341\n",
      "Epoch 38/100\n",
      "8000/8000 [==============================] - 3s 358us/step - loss: 0.4016 - acc: 0.8352\n",
      "Epoch 39/100\n",
      "8000/8000 [==============================] - 3s 351us/step - loss: 0.4015 - acc: 0.8357\n",
      "Epoch 40/100\n",
      "8000/8000 [==============================] - 3s 360us/step - loss: 0.4017 - acc: 0.8341\n",
      "Epoch 41/100\n",
      "8000/8000 [==============================] - 3s 358us/step - loss: 0.4017 - acc: 0.8366\n",
      "Epoch 42/100\n",
      "8000/8000 [==============================] - 3s 362us/step - loss: 0.4012 - acc: 0.8357\n",
      "Epoch 43/100\n",
      "8000/8000 [==============================] - 3s 340us/step - loss: 0.4017 - acc: 0.8352\n",
      "Epoch 44/100\n",
      "8000/8000 [==============================] - 3s 349us/step - loss: 0.4017 - acc: 0.8349\n",
      "Epoch 45/100\n",
      "8000/8000 [==============================] - 3s 341us/step - loss: 0.4016 - acc: 0.8344\n",
      "Epoch 46/100\n",
      "8000/8000 [==============================] - 3s 350us/step - loss: 0.4015 - acc: 0.8350\n",
      "Epoch 47/100\n",
      "8000/8000 [==============================] - 3s 345us/step - loss: 0.4016 - acc: 0.8344\n",
      "Epoch 48/100\n",
      "8000/8000 [==============================] - 3s 358us/step - loss: 0.4008 - acc: 0.8354\n",
      "Epoch 49/100\n",
      "8000/8000 [==============================] - 3s 351us/step - loss: 0.4012 - acc: 0.8347\n",
      "Epoch 50/100\n",
      "8000/8000 [==============================] - 3s 355us/step - loss: 0.4012 - acc: 0.8339\n",
      "Epoch 51/100\n",
      "8000/8000 [==============================] - 3s 364us/step - loss: 0.4015 - acc: 0.8350\n",
      "Epoch 52/100\n",
      "8000/8000 [==============================] - 3s 362us/step - loss: 0.4013 - acc: 0.8352\n",
      "Epoch 53/100\n",
      "8000/8000 [==============================] - 3s 352us/step - loss: 0.4006 - acc: 0.8354\n",
      "Epoch 54/100\n",
      "8000/8000 [==============================] - 3s 348us/step - loss: 0.4012 - acc: 0.8345\n",
      "Epoch 55/100\n",
      "8000/8000 [==============================] - 3s 354us/step - loss: 0.4005 - acc: 0.8354\n",
      "Epoch 56/100\n",
      "8000/8000 [==============================] - 3s 348us/step - loss: 0.4008 - acc: 0.8351\n",
      "Epoch 57/100\n",
      "8000/8000 [==============================] - 3s 342us/step - loss: 0.4012 - acc: 0.8347\n",
      "Epoch 58/100\n",
      "8000/8000 [==============================] - 3s 357us/step - loss: 0.4008 - acc: 0.8355\n",
      "Epoch 59/100\n",
      "8000/8000 [==============================] - 3s 366us/step - loss: 0.4008 - acc: 0.8346\n",
      "Epoch 60/100\n",
      "8000/8000 [==============================] - 3s 364us/step - loss: 0.4005 - acc: 0.8344\n",
      "Epoch 61/100\n",
      "8000/8000 [==============================] - 3s 359us/step - loss: 0.4008 - acc: 0.8357\n",
      "Epoch 62/100\n",
      "8000/8000 [==============================] - 3s 359us/step - loss: 0.4009 - acc: 0.8341\n",
      "Epoch 63/100\n",
      "8000/8000 [==============================] - 3s 359us/step - loss: 0.4007 - acc: 0.8349\n",
      "Epoch 64/100\n",
      "8000/8000 [==============================] - 3s 366us/step - loss: 0.4008 - acc: 0.8350\n",
      "Epoch 65/100\n",
      "8000/8000 [==============================] - 3s 352us/step - loss: 0.4006 - acc: 0.8354\n",
      "Epoch 66/100\n",
      "8000/8000 [==============================] - 3s 389us/step - loss: 0.4008 - acc: 0.8349\n",
      "Epoch 67/100\n",
      "8000/8000 [==============================] - 3s 362us/step - loss: 0.4008 - acc: 0.8351\n",
      "Epoch 68/100\n",
      "8000/8000 [==============================] - 3s 368us/step - loss: 0.4006 - acc: 0.8344\n",
      "Epoch 69/100\n",
      "8000/8000 [==============================] - 3s 388us/step - loss: 0.4008 - acc: 0.8349\n",
      "Epoch 70/100\n",
      "8000/8000 [==============================] - 3s 374us/step - loss: 0.4002 - acc: 0.8337\n",
      "Epoch 71/100\n",
      "8000/8000 [==============================] - 3s 369us/step - loss: 0.4003 - acc: 0.8350\n",
      "Epoch 72/100\n",
      "8000/8000 [==============================] - 3s 375us/step - loss: 0.4006 - acc: 0.8352\n",
      "Epoch 73/100\n",
      "8000/8000 [==============================] - 3s 375us/step - loss: 0.4004 - acc: 0.8347\n",
      "Epoch 74/100\n",
      "8000/8000 [==============================] - 3s 397us/step - loss: 0.4006 - acc: 0.8347\n",
      "Epoch 75/100\n",
      "8000/8000 [==============================] - 3s 390us/step - loss: 0.4011 - acc: 0.8365\n",
      "Epoch 76/100\n",
      "8000/8000 [==============================] - 3s 380us/step - loss: 0.4005 - acc: 0.8355\n",
      "Epoch 77/100\n",
      "8000/8000 [==============================] - 3s 391us/step - loss: 0.3999 - acc: 0.8360\n",
      "Epoch 78/100\n",
      "8000/8000 [==============================] - 3s 396us/step - loss: 0.4000 - acc: 0.8354\n",
      "Epoch 79/100\n",
      "8000/8000 [==============================] - 3s 377us/step - loss: 0.4003 - acc: 0.8351\n",
      "Epoch 80/100\n",
      "8000/8000 [==============================] - 3s 378us/step - loss: 0.4001 - acc: 0.8332\n",
      "Epoch 81/100\n",
      "8000/8000 [==============================] - 3s 388us/step - loss: 0.3999 - acc: 0.8340\n",
      "Epoch 82/100\n"
     ]
    },
    {
     "name": "stdout",
     "output_type": "stream",
     "text": [
      "8000/8000 [==============================] - 2s 308us/step - loss: 0.4000 - acc: 0.8345\n",
      "Epoch 83/100\n",
      "8000/8000 [==============================] - 2s 301us/step - loss: 0.3998 - acc: 0.8352\n",
      "Epoch 84/100\n",
      "8000/8000 [==============================] - 2s 302us/step - loss: 0.4004 - acc: 0.8345\n",
      "Epoch 85/100\n",
      "8000/8000 [==============================] - 2s 293us/step - loss: 0.4006 - acc: 0.8347\n",
      "Epoch 86/100\n",
      "8000/8000 [==============================] - 2s 260us/step - loss: 0.3998 - acc: 0.8354\n",
      "Epoch 87/100\n",
      "8000/8000 [==============================] - 2s 278us/step - loss: 0.4004 - acc: 0.8354\n",
      "Epoch 88/100\n",
      "8000/8000 [==============================] - 2s 308us/step - loss: 0.4000 - acc: 0.8350\n",
      "Epoch 89/100\n",
      "8000/8000 [==============================] - 2s 300us/step - loss: 0.4001 - acc: 0.8336\n",
      "Epoch 90/100\n",
      "8000/8000 [==============================] - 2s 307us/step - loss: 0.4001 - acc: 0.8337\n",
      "Epoch 91/100\n",
      "8000/8000 [==============================] - 2s 294us/step - loss: 0.4002 - acc: 0.8327\n",
      "Epoch 92/100\n",
      "8000/8000 [==============================] - 2s 305us/step - loss: 0.4002 - acc: 0.8336\n",
      "Epoch 93/100\n",
      "8000/8000 [==============================] - 2s 311us/step - loss: 0.4005 - acc: 0.8355\n",
      "Epoch 94/100\n",
      "8000/8000 [==============================] - 2s 305us/step - loss: 0.3999 - acc: 0.8356\n",
      "Epoch 95/100\n",
      "8000/8000 [==============================] - 3s 313us/step - loss: 0.4001 - acc: 0.8362\n",
      "Epoch 96/100\n",
      "8000/8000 [==============================] - 2s 309us/step - loss: 0.4002 - acc: 0.8349\n",
      "Epoch 97/100\n",
      "8000/8000 [==============================] - 3s 314us/step - loss: 0.4002 - acc: 0.8351\n",
      "Epoch 98/100\n",
      "8000/8000 [==============================] - 2s 304us/step - loss: 0.4007 - acc: 0.8356\n",
      "Epoch 99/100\n",
      "8000/8000 [==============================] - 3s 339us/step - loss: 0.4003 - acc: 0.8364\n",
      "Epoch 100/100\n",
      "8000/8000 [==============================] - 3s 343us/step - loss: 0.3995 - acc: 0.8354\n"
     ]
    },
    {
     "data": {
      "text/plain": [
       "<keras.callbacks.History at 0x7fab48d9d588>"
      ]
     },
     "execution_count": 8,
     "metadata": {},
     "output_type": "execute_result"
    }
   ],
   "source": [
    "# Fitting the ANN to the Training set\n",
    "classifier.fit(X_train, y_train, batch_size = 10, epochs = 100)"
   ]
  },
  {
   "cell_type": "markdown",
   "metadata": {},
   "source": [
    "# Making the predictions and evaluating the model"
   ]
  },
  {
   "cell_type": "code",
   "execution_count": 9,
   "metadata": {},
   "outputs": [],
   "source": [
    "# Predicting the Test set results\n",
    "y_pred = classifier.predict(X_test)\n",
    "y_pred = (y_pred > 0.5)"
   ]
  },
  {
   "cell_type": "code",
   "execution_count": 10,
   "metadata": {},
   "outputs": [
    {
     "data": {
      "text/plain": [
       "array([[1545,   50],\n",
       "       [ 266,  139]])"
      ]
     },
     "execution_count": 10,
     "metadata": {},
     "output_type": "execute_result"
    }
   ],
   "source": [
    "# Making the Confusion Matrix\n",
    "from sklearn.metrics import confusion_matrix\n",
    "cm = confusion_matrix(y_test, y_pred)\n",
    "cm"
   ]
  },
  {
   "cell_type": "code",
   "execution_count": null,
   "metadata": {},
   "outputs": [],
   "source": []
  }
 ],
 "metadata": {
  "kernelspec": {
   "display_name": "Python 3",
   "language": "python",
   "name": "python3"
  },
  "language_info": {
   "codemirror_mode": {
    "name": "ipython",
    "version": 3
   },
   "file_extension": ".py",
   "mimetype": "text/x-python",
   "name": "python",
   "nbconvert_exporter": "python",
   "pygments_lexer": "ipython3",
   "version": "3.6.5"
  }
 },
 "nbformat": 4,
 "nbformat_minor": 2
}
